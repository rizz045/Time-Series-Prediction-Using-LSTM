{
  "nbformat": 4,
  "nbformat_minor": 0,
  "metadata": {
    "colab": {
      "provenance": []
    },
    "kernelspec": {
      "name": "python3",
      "display_name": "Python 3"
    },
    "language_info": {
      "name": "python"
    }
  },
  "cells": [
    {
      "cell_type": "markdown",
      "source": [
        "**Objective:** To build a model capable of predicting future values using implementing LSTM and other Time Series Techniques. The main goal is to deploy a model capable of predicting the fututre energy values given date and time."
      ],
      "metadata": {
        "id": "dY5orV6cWB-T"
      }
    },
    {
      "cell_type": "code",
      "execution_count": null,
      "metadata": {
        "id": "XZ6TMJBwwcJy"
      },
      "outputs": [],
      "source": [
        "import pandas as pd\n",
        "import numpy as np\n",
        "from sklearn.preprocessing import MinMaxScaler\n",
        "from tensorflow.keras.models import Sequential, save_model\n",
        "from tensorflow.keras.layers import LSTM, Dense, Dropout\n",
        "from tensorflow.keras.callbacks import EarlyStopping\n",
        "\n",
        "def load_data():\n",
        "    df = pd.read_csv('/content/PJMW_hourly.csv', parse_dates=['Datetime'], index_col='Datetime')\n",
        "    return df\n",
        "\n",
        "def preprocess_data(df, look_back=24):\n",
        "    scaler = MinMaxScaler()\n",
        "    scaled_data = scaler.fit_transform(df.values)\n",
        "\n",
        "    X, y = [], []\n",
        "    for i in range(len(scaled_data)-look_back-1):\n",
        "        X.append(scaled_data[i:(i+look_back), 0])\n",
        "        y.append(scaled_data[i + look_back, 0])\n",
        "\n",
        "    X = np.array(X)\n",
        "    y = np.array(y)\n",
        "    X = np.reshape(X, (X.shape[0], X.shape[1], 1))\n",
        "    return X, y, scaler\n",
        "\n",
        "def build_model(input_shape):\n",
        "    model = Sequential([\n",
        "        LSTM(50, return_sequences=True, input_shape=input_shape),\n",
        "        Dropout(0.2),\n",
        "        LSTM(50, return_sequences=False),\n",
        "        Dropout(0.2),\n",
        "        Dense(1)\n",
        "    ])\n",
        "    model.compile(optimizer='adam', loss='mse')\n",
        "    return model\n"
      ]
    },
    {
      "cell_type": "code",
      "source": [
        "\n",
        "# Load and preprocess\n",
        "df = load_data()\n",
        "X, y, scaler = preprocess_data(df)\n",
        "\n",
        "# Build and train\n",
        "model = build_model((X.shape[1], 1))\n",
        "model.fit(X, y, epochs=50, batch_size=32, validation_split=0.2)\n",
        "\n",
        "# Save artifacts\n",
        "save_model(model, 'lstm_model.h5')\n",
        "np.save('scaler_params.npy', scaler.get_params())"
      ],
      "metadata": {
        "colab": {
          "base_uri": "https://localhost:8080/"
        },
        "id": "BD_mLkutwflQ",
        "outputId": "21e9afb2-e28d-4703-923e-51542a5d621d"
      },
      "execution_count": null,
      "outputs": [
        {
          "output_type": "stream",
          "name": "stdout",
          "text": [
            "Epoch 1/50\n"
          ]
        },
        {
          "output_type": "stream",
          "name": "stderr",
          "text": [
            "/usr/local/lib/python3.11/dist-packages/keras/src/layers/rnn/rnn.py:200: UserWarning: Do not pass an `input_shape`/`input_dim` argument to a layer. When using Sequential models, prefer using an `Input(shape)` object as the first layer in the model instead.\n",
            "  super().__init__(**kwargs)\n"
          ]
        },
        {
          "output_type": "stream",
          "name": "stdout",
          "text": [
            "\u001b[1m3580/3580\u001b[0m \u001b[32m━━━━━━━━━━━━━━━━━━━━\u001b[0m\u001b[37m\u001b[0m \u001b[1m89s\u001b[0m 24ms/step - loss: 0.0084 - val_loss: 5.1325e-04\n",
            "Epoch 2/50\n",
            "\u001b[1m3580/3580\u001b[0m \u001b[32m━━━━━━━━━━━━━━━━━━━━\u001b[0m\u001b[37m\u001b[0m \u001b[1m84s\u001b[0m 24ms/step - loss: 8.4759e-04 - val_loss: 3.4119e-04\n",
            "Epoch 3/50\n",
            "\u001b[1m3580/3580\u001b[0m \u001b[32m━━━━━━━━━━━━━━━━━━━━\u001b[0m\u001b[37m\u001b[0m \u001b[1m146s\u001b[0m 25ms/step - loss: 4.7331e-04 - val_loss: 3.5334e-04\n",
            "Epoch 4/50\n",
            "\u001b[1m3580/3580\u001b[0m \u001b[32m━━━━━━━━━━━━━━━━━━━━\u001b[0m\u001b[37m\u001b[0m \u001b[1m83s\u001b[0m 23ms/step - loss: 4.3525e-04 - val_loss: 3.4444e-04\n",
            "Epoch 5/50\n",
            "\u001b[1m3580/3580\u001b[0m \u001b[32m━━━━━━━━━━━━━━━━━━━━\u001b[0m\u001b[37m\u001b[0m \u001b[1m148s\u001b[0m 25ms/step - loss: 4.0906e-04 - val_loss: 3.2465e-04\n",
            "Epoch 6/50\n",
            "\u001b[1m3580/3580\u001b[0m \u001b[32m━━━━━━━━━━━━━━━━━━━━\u001b[0m\u001b[37m\u001b[0m \u001b[1m141s\u001b[0m 25ms/step - loss: 3.8349e-04 - val_loss: 3.1136e-04\n",
            "Epoch 7/50\n",
            "\u001b[1m3580/3580\u001b[0m \u001b[32m━━━━━━━━━━━━━━━━━━━━\u001b[0m\u001b[37m\u001b[0m \u001b[1m142s\u001b[0m 25ms/step - loss: 3.7712e-04 - val_loss: 3.4281e-04\n",
            "Epoch 8/50\n",
            "\u001b[1m3580/3580\u001b[0m \u001b[32m━━━━━━━━━━━━━━━━━━━━\u001b[0m\u001b[37m\u001b[0m \u001b[1m143s\u001b[0m 25ms/step - loss: 3.5675e-04 - val_loss: 3.2053e-04\n",
            "Epoch 9/50\n",
            "\u001b[1m3580/3580\u001b[0m \u001b[32m━━━━━━━━━━━━━━━━━━━━\u001b[0m\u001b[37m\u001b[0m \u001b[1m141s\u001b[0m 25ms/step - loss: 3.3460e-04 - val_loss: 2.8501e-04\n",
            "Epoch 10/50\n",
            "\u001b[1m3580/3580\u001b[0m \u001b[32m━━━━━━━━━━━━━━━━━━━━\u001b[0m\u001b[37m\u001b[0m \u001b[1m138s\u001b[0m 24ms/step - loss: 3.4331e-04 - val_loss: 2.7241e-04\n",
            "Epoch 11/50\n",
            "\u001b[1m3580/3580\u001b[0m \u001b[32m━━━━━━━━━━━━━━━━━━━━\u001b[0m\u001b[37m\u001b[0m \u001b[1m142s\u001b[0m 24ms/step - loss: 3.2540e-04 - val_loss: 3.0077e-04\n",
            "Epoch 12/50\n",
            "\u001b[1m3580/3580\u001b[0m \u001b[32m━━━━━━━━━━━━━━━━━━━━\u001b[0m\u001b[37m\u001b[0m \u001b[1m146s\u001b[0m 25ms/step - loss: 3.2799e-04 - val_loss: 2.6741e-04\n",
            "Epoch 13/50\n",
            "\u001b[1m3580/3580\u001b[0m \u001b[32m━━━━━━━━━━━━━━━━━━━━\u001b[0m\u001b[37m\u001b[0m \u001b[1m143s\u001b[0m 25ms/step - loss: 3.1827e-04 - val_loss: 2.5821e-04\n",
            "Epoch 14/50\n",
            "\u001b[1m3580/3580\u001b[0m \u001b[32m━━━━━━━━━━━━━━━━━━━━\u001b[0m\u001b[37m\u001b[0m \u001b[1m140s\u001b[0m 25ms/step - loss: 3.2491e-04 - val_loss: 2.5806e-04\n",
            "Epoch 15/50\n",
            "\u001b[1m3580/3580\u001b[0m \u001b[32m━━━━━━━━━━━━━━━━━━━━\u001b[0m\u001b[37m\u001b[0m \u001b[1m88s\u001b[0m 24ms/step - loss: 3.1185e-04 - val_loss: 2.9491e-04\n",
            "Epoch 16/50\n",
            "\u001b[1m3580/3580\u001b[0m \u001b[32m━━━━━━━━━━━━━━━━━━━━\u001b[0m\u001b[37m\u001b[0m \u001b[1m143s\u001b[0m 25ms/step - loss: 2.9853e-04 - val_loss: 2.3758e-04\n",
            "Epoch 17/50\n",
            "\u001b[1m3580/3580\u001b[0m \u001b[32m━━━━━━━━━━━━━━━━━━━━\u001b[0m\u001b[37m\u001b[0m \u001b[1m143s\u001b[0m 25ms/step - loss: 2.9466e-04 - val_loss: 2.3670e-04\n",
            "Epoch 18/50\n",
            "\u001b[1m3580/3580\u001b[0m \u001b[32m━━━━━━━━━━━━━━━━━━━━\u001b[0m\u001b[37m\u001b[0m \u001b[1m141s\u001b[0m 25ms/step - loss: 2.8678e-04 - val_loss: 2.5999e-04\n",
            "Epoch 19/50\n",
            "\u001b[1m3580/3580\u001b[0m \u001b[32m━━━━━━━━━━━━━━━━━━━━\u001b[0m\u001b[37m\u001b[0m \u001b[1m138s\u001b[0m 24ms/step - loss: 2.8361e-04 - val_loss: 2.5990e-04\n",
            "Epoch 20/50\n",
            "\u001b[1m3580/3580\u001b[0m \u001b[32m━━━━━━━━━━━━━━━━━━━━\u001b[0m\u001b[37m\u001b[0m \u001b[1m148s\u001b[0m 25ms/step - loss: 2.8168e-04 - val_loss: 2.2663e-04\n",
            "Epoch 21/50\n",
            "\u001b[1m3580/3580\u001b[0m \u001b[32m━━━━━━━━━━━━━━━━━━━━\u001b[0m\u001b[37m\u001b[0m \u001b[1m141s\u001b[0m 25ms/step - loss: 2.7901e-04 - val_loss: 2.2286e-04\n",
            "Epoch 22/50\n",
            "\u001b[1m3580/3580\u001b[0m \u001b[32m━━━━━━━━━━━━━━━━━━━━\u001b[0m\u001b[37m\u001b[0m \u001b[1m142s\u001b[0m 25ms/step - loss: 2.6841e-04 - val_loss: 2.3062e-04\n",
            "Epoch 23/50\n",
            "\u001b[1m3580/3580\u001b[0m \u001b[32m━━━━━━━━━━━━━━━━━━━━\u001b[0m\u001b[37m\u001b[0m \u001b[1m89s\u001b[0m 25ms/step - loss: 2.7257e-04 - val_loss: 2.1010e-04\n",
            "Epoch 24/50\n",
            "\u001b[1m3580/3580\u001b[0m \u001b[32m━━━━━━━━━━━━━━━━━━━━\u001b[0m\u001b[37m\u001b[0m \u001b[1m143s\u001b[0m 25ms/step - loss: 2.6326e-04 - val_loss: 2.6193e-04\n",
            "Epoch 25/50\n",
            "\u001b[1m3580/3580\u001b[0m \u001b[32m━━━━━━━━━━━━━━━━━━━━\u001b[0m\u001b[37m\u001b[0m \u001b[1m136s\u001b[0m 24ms/step - loss: 2.6880e-04 - val_loss: 2.2540e-04\n",
            "Epoch 26/50\n",
            "\u001b[1m3580/3580\u001b[0m \u001b[32m━━━━━━━━━━━━━━━━━━━━\u001b[0m\u001b[37m\u001b[0m \u001b[1m141s\u001b[0m 23ms/step - loss: 2.5732e-04 - val_loss: 2.2514e-04\n",
            "Epoch 27/50\n",
            "\u001b[1m3580/3580\u001b[0m \u001b[32m━━━━━━━━━━━━━━━━━━━━\u001b[0m\u001b[37m\u001b[0m \u001b[1m147s\u001b[0m 25ms/step - loss: 2.5475e-04 - val_loss: 2.3441e-04\n",
            "Epoch 28/50\n",
            "\u001b[1m3580/3580\u001b[0m \u001b[32m━━━━━━━━━━━━━━━━━━━━\u001b[0m\u001b[37m\u001b[0m \u001b[1m141s\u001b[0m 25ms/step - loss: 2.5440e-04 - val_loss: 2.2449e-04\n",
            "Epoch 29/50\n",
            "\u001b[1m3580/3580\u001b[0m \u001b[32m━━━━━━━━━━━━━━━━━━━━\u001b[0m\u001b[37m\u001b[0m \u001b[1m137s\u001b[0m 23ms/step - loss: 2.4981e-04 - val_loss: 2.0879e-04\n",
            "Epoch 30/50\n",
            "\u001b[1m3580/3580\u001b[0m \u001b[32m━━━━━━━━━━━━━━━━━━━━\u001b[0m\u001b[37m\u001b[0m \u001b[1m148s\u001b[0m 25ms/step - loss: 2.4864e-04 - val_loss: 2.0354e-04\n",
            "Epoch 31/50\n",
            "\u001b[1m3580/3580\u001b[0m \u001b[32m━━━━━━━━━━━━━━━━━━━━\u001b[0m\u001b[37m\u001b[0m \u001b[1m137s\u001b[0m 23ms/step - loss: 2.4317e-04 - val_loss: 2.1206e-04\n",
            "Epoch 32/50\n",
            "\u001b[1m3580/3580\u001b[0m \u001b[32m━━━━━━━━━━━━━━━━━━━━\u001b[0m\u001b[37m\u001b[0m \u001b[1m147s\u001b[0m 25ms/step - loss: 2.3711e-04 - val_loss: 1.9225e-04\n",
            "Epoch 33/50\n",
            "\u001b[1m3580/3580\u001b[0m \u001b[32m━━━━━━━━━━━━━━━━━━━━\u001b[0m\u001b[37m\u001b[0m \u001b[1m143s\u001b[0m 25ms/step - loss: 2.3672e-04 - val_loss: 2.2386e-04\n",
            "Epoch 34/50\n",
            "\u001b[1m3580/3580\u001b[0m \u001b[32m━━━━━━━━━━━━━━━━━━━━\u001b[0m\u001b[37m\u001b[0m \u001b[1m89s\u001b[0m 25ms/step - loss: 2.4326e-04 - val_loss: 1.9093e-04\n",
            "Epoch 35/50\n",
            "\u001b[1m3580/3580\u001b[0m \u001b[32m━━━━━━━━━━━━━━━━━━━━\u001b[0m\u001b[37m\u001b[0m \u001b[1m138s\u001b[0m 24ms/step - loss: 2.3835e-04 - val_loss: 2.0585e-04\n",
            "Epoch 36/50\n",
            "\u001b[1m3580/3580\u001b[0m \u001b[32m━━━━━━━━━━━━━━━━━━━━\u001b[0m\u001b[37m\u001b[0m \u001b[1m84s\u001b[0m 23ms/step - loss: 2.3663e-04 - val_loss: 1.9169e-04\n",
            "Epoch 37/50\n",
            "\u001b[1m3580/3580\u001b[0m \u001b[32m━━━━━━━━━━━━━━━━━━━━\u001b[0m\u001b[37m\u001b[0m \u001b[1m147s\u001b[0m 25ms/step - loss: 2.3853e-04 - val_loss: 2.1216e-04\n",
            "Epoch 38/50\n",
            "\u001b[1m3580/3580\u001b[0m \u001b[32m━━━━━━━━━━━━━━━━━━━━\u001b[0m\u001b[37m\u001b[0m \u001b[1m141s\u001b[0m 25ms/step - loss: 2.3437e-04 - val_loss: 1.9981e-04\n",
            "Epoch 39/50\n",
            "\u001b[1m3580/3580\u001b[0m \u001b[32m━━━━━━━━━━━━━━━━━━━━\u001b[0m\u001b[37m\u001b[0m \u001b[1m142s\u001b[0m 25ms/step - loss: 2.2906e-04 - val_loss: 1.9084e-04\n",
            "Epoch 40/50\n",
            "\u001b[1m3580/3580\u001b[0m \u001b[32m━━━━━━━━━━━━━━━━━━━━\u001b[0m\u001b[37m\u001b[0m \u001b[1m138s\u001b[0m 24ms/step - loss: 2.3008e-04 - val_loss: 1.9390e-04\n",
            "Epoch 41/50\n",
            "\u001b[1m3580/3580\u001b[0m \u001b[32m━━━━━━━━━━━━━━━━━━━━\u001b[0m\u001b[37m\u001b[0m \u001b[1m146s\u001b[0m 25ms/step - loss: 2.2436e-04 - val_loss: 1.7926e-04\n",
            "Epoch 42/50\n",
            "\u001b[1m3580/3580\u001b[0m \u001b[32m━━━━━━━━━━━━━━━━━━━━\u001b[0m\u001b[37m\u001b[0m \u001b[1m141s\u001b[0m 25ms/step - loss: 2.2324e-04 - val_loss: 2.0417e-04\n",
            "Epoch 43/50\n",
            "\u001b[1m3580/3580\u001b[0m \u001b[32m━━━━━━━━━━━━━━━━━━━━\u001b[0m\u001b[37m\u001b[0m \u001b[1m142s\u001b[0m 25ms/step - loss: 2.2030e-04 - val_loss: 1.8542e-04\n",
            "Epoch 44/50\n",
            "\u001b[1m3580/3580\u001b[0m \u001b[32m━━━━━━━━━━━━━━━━━━━━\u001b[0m\u001b[37m\u001b[0m \u001b[1m89s\u001b[0m 25ms/step - loss: 2.2083e-04 - val_loss: 1.8177e-04\n",
            "Epoch 45/50\n",
            "\u001b[1m3580/3580\u001b[0m \u001b[32m━━━━━━━━━━━━━━━━━━━━\u001b[0m\u001b[37m\u001b[0m \u001b[1m141s\u001b[0m 25ms/step - loss: 2.1904e-04 - val_loss: 1.9951e-04\n",
            "Epoch 46/50\n",
            "\u001b[1m3580/3580\u001b[0m \u001b[32m━━━━━━━━━━━━━━━━━━━━\u001b[0m\u001b[37m\u001b[0m \u001b[1m142s\u001b[0m 25ms/step - loss: 2.1635e-04 - val_loss: 1.8609e-04\n",
            "Epoch 47/50\n",
            "\u001b[1m3580/3580\u001b[0m \u001b[32m━━━━━━━━━━━━━━━━━━━━\u001b[0m\u001b[37m\u001b[0m \u001b[1m89s\u001b[0m 25ms/step - loss: 2.1871e-04 - val_loss: 1.9911e-04\n",
            "Epoch 48/50\n",
            "\u001b[1m3580/3580\u001b[0m \u001b[32m━━━━━━━━━━━━━━━━━━━━\u001b[0m\u001b[37m\u001b[0m \u001b[1m138s\u001b[0m 24ms/step - loss: 2.2633e-04 - val_loss: 1.8413e-04\n",
            "Epoch 49/50\n",
            "\u001b[1m3580/3580\u001b[0m \u001b[32m━━━━━━━━━━━━━━━━━━━━\u001b[0m\u001b[37m\u001b[0m \u001b[1m141s\u001b[0m 23ms/step - loss: 2.1564e-04 - val_loss: 1.7600e-04\n",
            "Epoch 50/50\n",
            "\u001b[1m3580/3580\u001b[0m \u001b[32m━━━━━━━━━━━━━━━━━━━━\u001b[0m\u001b[37m\u001b[0m \u001b[1m147s\u001b[0m 25ms/step - loss: 2.1415e-04 - val_loss: 1.9729e-04\n"
          ]
        },
        {
          "output_type": "stream",
          "name": "stderr",
          "text": [
            "WARNING:absl:You are saving your model as an HDF5 file via `model.save()` or `keras.saving.save_model(model)`. This file format is considered legacy. We recommend using instead the native Keras format, e.g. `model.save('my_model.keras')` or `keras.saving.save_model(model, 'my_model.keras')`. \n"
          ]
        }
      ]
    },
    {
      "cell_type": "code",
      "source": [
        "len(X)"
      ],
      "metadata": {
        "colab": {
          "base_uri": "https://localhost:8080/"
        },
        "id": "9c910dOExc8H",
        "outputId": "d0102b02-d5b4-49cc-b7e3-af6c1243233e"
      },
      "execution_count": null,
      "outputs": [
        {
          "output_type": "execute_result",
          "data": {
            "text/plain": [
              "143181"
            ]
          },
          "metadata": {},
          "execution_count": 12
        }
      ]
    },
    {
      "cell_type": "code",
      "source": [
        "X_train"
      ],
      "metadata": {
        "colab": {
          "base_uri": "https://localhost:8080/",
          "height": 141
        },
        "id": "_5r_t3ltxhyO",
        "outputId": "8d27058b-1b8d-4a9d-8f8b-538af70e3ff5"
      },
      "execution_count": null,
      "outputs": [
        {
          "output_type": "error",
          "ename": "NameError",
          "evalue": "name 'X_train' is not defined",
          "traceback": [
            "\u001b[0;31m---------------------------------------------------------------------------\u001b[0m",
            "\u001b[0;31mNameError\u001b[0m                                 Traceback (most recent call last)",
            "\u001b[0;32m<ipython-input-15-4239342174>\u001b[0m in \u001b[0;36m<cell line: 0>\u001b[0;34m()\u001b[0m\n\u001b[0;32m----> 1\u001b[0;31m \u001b[0mX_train\u001b[0m\u001b[0;34m\u001b[0m\u001b[0;34m\u001b[0m\u001b[0m\n\u001b[0m",
            "\u001b[0;31mNameError\u001b[0m: name 'X_train' is not defined"
          ]
        }
      ]
    },
    {
      "cell_type": "code",
      "source": [
        "X[1]"
      ],
      "metadata": {
        "colab": {
          "base_uri": "https://localhost:8080/"
        },
        "id": "BovYiBv1xpy2",
        "outputId": "d6126259-5b4a-4c00-f59b-1a5d34e09b73"
      },
      "execution_count": null,
      "outputs": [
        {
          "output_type": "execute_result",
          "data": {
            "text/plain": [
              "array([[0.48885473],\n",
              "       [0.48292522],\n",
              "       [0.47985066],\n",
              "       [0.48786648],\n",
              "       [0.50938838],\n",
              "       [0.54968705],\n",
              "       [0.58603272],\n",
              "       [0.6011859 ],\n",
              "       [0.60744482],\n",
              "       [0.60404085],\n",
              "       [0.59273087],\n",
              "       [0.57944438],\n",
              "       [0.56275393],\n",
              "       [0.54891841],\n",
              "       [0.54760075],\n",
              "       [0.56890304],\n",
              "       [0.60832327],\n",
              "       [0.60239376],\n",
              "       [0.58032283],\n",
              "       [0.55561656],\n",
              "       [0.53486329],\n",
              "       [0.51125508],\n",
              "       [0.48797628],\n",
              "       [0.53288679]])"
            ]
          },
          "metadata": {},
          "execution_count": 17
        }
      ]
    },
    {
      "cell_type": "code",
      "source": [
        "import joblib\n",
        "joblib.dump(scaler,\"scaler.pkl\")"
      ],
      "metadata": {
        "colab": {
          "base_uri": "https://localhost:8080/"
        },
        "id": "stc_bkr4ZfJ7",
        "outputId": "05ef5949-3d30-4f11-a1ba-adcb479f72bb"
      },
      "execution_count": null,
      "outputs": [
        {
          "output_type": "execute_result",
          "data": {
            "text/plain": [
              "['scaler.pkl']"
            ]
          },
          "metadata": {},
          "execution_count": 19
        }
      ]
    },
    {
      "cell_type": "code",
      "source": [
        "import pandas as pd\n",
        "import numpy as np\n",
        "from sklearn.preprocessing import MinMaxScaler\n",
        "from tensorflow.keras.models import Sequential\n",
        "from tensorflow.keras.layers import LSTM, Dense, Dropout, Bidirectional, Input\n",
        "from tensorflow.keras.callbacks import EarlyStopping\n",
        "import joblib\n",
        "\n",
        "# --- Load your dataset ---\n",
        "df = pd.read_csv(r\"/content/PJMW_hourly.csv\")  # Replace with your actual file\n",
        "df.columns = df.columns.str.strip()\n",
        "\n",
        "# Convert 'Datetime' to datetime type\n",
        "df['Datetime'] = pd.to_datetime(df['Datetime'], errors='coerce')\n",
        "df.dropna(subset=['Datetime'], inplace=True)\n",
        "\n",
        "# Feature engineering\n",
        "df['hour'] = df['Datetime'].dt.hour\n",
        "df['day'] = df['Datetime'].dt.day\n",
        "df['weekday'] = df['Datetime'].dt.weekday\n",
        "df['month'] = df['Datetime'].dt.month\n",
        "\n",
        "# Select features and target\n",
        "features = ['hour', 'day', 'weekday', 'month']\n",
        "target = 'PJMW_MW'\n",
        "df = df.dropna(subset=[target])\n",
        "\n",
        "# --- Scale the data ---\n",
        "scaler = MinMaxScaler()\n",
        "data = df[features + [target]]\n",
        "scaled = scaler.fit_transform(data)\n",
        "\n",
        "# --- Create sequences ---\n",
        "def create_sequences(data, seq_length):\n",
        "    X, y = [], []\n",
        "    for i in range(len(data) - seq_length):\n",
        "        X.append(data[i:i+seq_length, :-1])  # features\n",
        "        y.append(data[i+seq_length, -1])     # target\n",
        "    return np.array(X), np.array(y)\n",
        "\n",
        "seq_len = 24\n",
        "X, y = create_sequences(scaled, seq_len)\n",
        "\n",
        "# --- Train-test split ---\n",
        "split = int(0.8 * len(X))\n",
        "X_train, X_test = X[:split], X[split:]\n",
        "y_train, y_test = y[:split], y[split:]\n",
        "\n",
        "# --- Build and train model ---\n",
        "model = Sequential([\n",
        "    Input(shape=(X_train.shape[1], X_train.shape[2])),\n",
        "    Bidirectional(LSTM(64, return_sequences=True)),\n",
        "    Dropout(0.3),\n",
        "    LSTM(32),\n",
        "    Dropout(0.2),\n",
        "    Dense(1)\n",
        "])\n",
        "model.compile(optimizer='adam', loss='mse')\n",
        "\n",
        "early_stop = EarlyStopping(patience=15, restore_best_weights=True)\n",
        "model.fit(\n",
        "    X_train, y_train,\n",
        "    epochs=100,\n",
        "    batch_size=64,\n",
        "    validation_data=(X_test, y_test),\n",
        "    callbacks=[early_stop],\n",
        "    verbose=1\n",
        ")"
      ],
      "metadata": {
        "id": "EZTaGmHXbDUC",
        "colab": {
          "base_uri": "https://localhost:8080/"
        },
        "outputId": "1196683d-3ef1-4c7b-83b7-e0724a23cf57"
      },
      "execution_count": 1,
      "outputs": [
        {
          "output_type": "stream",
          "name": "stdout",
          "text": [
            "Epoch 1/100\n",
            "\u001b[1m1790/1790\u001b[0m \u001b[32m━━━━━━━━━━━━━━━━━━━━\u001b[0m\u001b[37m\u001b[0m \u001b[1m84s\u001b[0m 44ms/step - loss: 0.0127 - val_loss: 0.0063\n",
            "Epoch 2/100\n",
            "\u001b[1m1790/1790\u001b[0m \u001b[32m━━━━━━━━━━━━━━━━━━━━\u001b[0m\u001b[37m\u001b[0m \u001b[1m79s\u001b[0m 44ms/step - loss: 0.0054 - val_loss: 0.0052\n",
            "Epoch 3/100\n",
            "\u001b[1m1790/1790\u001b[0m \u001b[32m━━━━━━━━━━━━━━━━━━━━\u001b[0m\u001b[37m\u001b[0m \u001b[1m86s\u001b[0m 46ms/step - loss: 0.0039 - val_loss: 0.0051\n",
            "Epoch 4/100\n",
            "\u001b[1m1790/1790\u001b[0m \u001b[32m━━━━━━━━━━━━━━━━━━━━\u001b[0m\u001b[37m\u001b[0m \u001b[1m141s\u001b[0m 46ms/step - loss: 0.0036 - val_loss: 0.0052\n",
            "Epoch 5/100\n",
            "\u001b[1m1790/1790\u001b[0m \u001b[32m━━━━━━━━━━━━━━━━━━━━\u001b[0m\u001b[37m\u001b[0m \u001b[1m77s\u001b[0m 43ms/step - loss: 0.0035 - val_loss: 0.0049\n",
            "Epoch 6/100\n",
            "\u001b[1m1790/1790\u001b[0m \u001b[32m━━━━━━━━━━━━━━━━━━━━\u001b[0m\u001b[37m\u001b[0m \u001b[1m82s\u001b[0m 46ms/step - loss: 0.0035 - val_loss: 0.0050\n",
            "Epoch 7/100\n",
            "\u001b[1m1790/1790\u001b[0m \u001b[32m━━━━━━━━━━━━━━━━━━━━\u001b[0m\u001b[37m\u001b[0m \u001b[1m146s\u001b[0m 48ms/step - loss: 0.0034 - val_loss: 0.0051\n",
            "Epoch 8/100\n",
            "\u001b[1m1790/1790\u001b[0m \u001b[32m━━━━━━━━━━━━━━━━━━━━\u001b[0m\u001b[37m\u001b[0m \u001b[1m146s\u001b[0m 50ms/step - loss: 0.0034 - val_loss: 0.0049\n",
            "Epoch 9/100\n",
            "\u001b[1m1790/1790\u001b[0m \u001b[32m━━━━━━━━━━━━━━━━━━━━\u001b[0m\u001b[37m\u001b[0m \u001b[1m140s\u001b[0m 49ms/step - loss: 0.0033 - val_loss: 0.0051\n",
            "Epoch 10/100\n",
            "\u001b[1m1790/1790\u001b[0m \u001b[32m━━━━━━━━━━━━━━━━━━━━\u001b[0m\u001b[37m\u001b[0m \u001b[1m137s\u001b[0m 46ms/step - loss: 0.0033 - val_loss: 0.0049\n",
            "Epoch 11/100\n",
            "\u001b[1m1790/1790\u001b[0m \u001b[32m━━━━━━━━━━━━━━━━━━━━\u001b[0m\u001b[37m\u001b[0m \u001b[1m83s\u001b[0m 46ms/step - loss: 0.0033 - val_loss: 0.0050\n",
            "Epoch 12/100\n",
            "\u001b[1m1790/1790\u001b[0m \u001b[32m━━━━━━━━━━━━━━━━━━━━\u001b[0m\u001b[37m\u001b[0m \u001b[1m137s\u001b[0m 44ms/step - loss: 0.0033 - val_loss: 0.0048\n",
            "Epoch 13/100\n",
            "\u001b[1m1790/1790\u001b[0m \u001b[32m━━━━━━━━━━━━━━━━━━━━\u001b[0m\u001b[37m\u001b[0m \u001b[1m86s\u001b[0m 46ms/step - loss: 0.0033 - val_loss: 0.0048\n",
            "Epoch 14/100\n",
            "\u001b[1m1790/1790\u001b[0m \u001b[32m━━━━━━━━━━━━━━━━━━━━\u001b[0m\u001b[37m\u001b[0m \u001b[1m146s\u001b[0m 49ms/step - loss: 0.0033 - val_loss: 0.0048\n",
            "Epoch 15/100\n",
            "\u001b[1m1790/1790\u001b[0m \u001b[32m━━━━━━━━━━━━━━━━━━━━\u001b[0m\u001b[37m\u001b[0m \u001b[1m138s\u001b[0m 47ms/step - loss: 0.0033 - val_loss: 0.0050\n",
            "Epoch 16/100\n",
            "\u001b[1m1790/1790\u001b[0m \u001b[32m━━━━━━━━━━━━━━━━━━━━\u001b[0m\u001b[37m\u001b[0m \u001b[1m142s\u001b[0m 47ms/step - loss: 0.0032 - val_loss: 0.0048\n",
            "Epoch 17/100\n",
            "\u001b[1m1790/1790\u001b[0m \u001b[32m━━━━━━━━━━━━━━━━━━━━\u001b[0m\u001b[37m\u001b[0m \u001b[1m141s\u001b[0m 46ms/step - loss: 0.0033 - val_loss: 0.0049\n",
            "Epoch 18/100\n",
            "\u001b[1m1790/1790\u001b[0m \u001b[32m━━━━━━━━━━━━━━━━━━━━\u001b[0m\u001b[37m\u001b[0m \u001b[1m85s\u001b[0m 47ms/step - loss: 0.0032 - val_loss: 0.0050\n",
            "Epoch 19/100\n",
            "\u001b[1m1790/1790\u001b[0m \u001b[32m━━━━━━━━━━━━━━━━━━━━\u001b[0m\u001b[37m\u001b[0m \u001b[1m139s\u001b[0m 46ms/step - loss: 0.0032 - val_loss: 0.0049\n",
            "Epoch 20/100\n",
            "\u001b[1m1790/1790\u001b[0m \u001b[32m━━━━━━━━━━━━━━━━━━━━\u001b[0m\u001b[37m\u001b[0m \u001b[1m80s\u001b[0m 45ms/step - loss: 0.0032 - val_loss: 0.0048\n",
            "Epoch 21/100\n",
            "\u001b[1m1790/1790\u001b[0m \u001b[32m━━━━━━━━━━━━━━━━━━━━\u001b[0m\u001b[37m\u001b[0m \u001b[1m84s\u001b[0m 47ms/step - loss: 0.0032 - val_loss: 0.0048\n",
            "Epoch 22/100\n",
            "\u001b[1m1790/1790\u001b[0m \u001b[32m━━━━━━━━━━━━━━━━━━━━\u001b[0m\u001b[37m\u001b[0m \u001b[1m138s\u001b[0m 45ms/step - loss: 0.0032 - val_loss: 0.0049\n",
            "Epoch 23/100\n",
            "\u001b[1m1790/1790\u001b[0m \u001b[32m━━━━━━━━━━━━━━━━━━━━\u001b[0m\u001b[37m\u001b[0m \u001b[1m86s\u001b[0m 47ms/step - loss: 0.0032 - val_loss: 0.0050\n",
            "Epoch 24/100\n",
            "\u001b[1m1790/1790\u001b[0m \u001b[32m━━━━━━━━━━━━━━━━━━━━\u001b[0m\u001b[37m\u001b[0m \u001b[1m83s\u001b[0m 46ms/step - loss: 0.0032 - val_loss: 0.0047\n",
            "Epoch 25/100\n",
            "\u001b[1m1790/1790\u001b[0m \u001b[32m━━━━━━━━━━━━━━━━━━━━\u001b[0m\u001b[37m\u001b[0m \u001b[1m138s\u001b[0m 44ms/step - loss: 0.0031 - val_loss: 0.0048\n",
            "Epoch 26/100\n",
            "\u001b[1m1790/1790\u001b[0m \u001b[32m━━━━━━━━━━━━━━━━━━━━\u001b[0m\u001b[37m\u001b[0m \u001b[1m81s\u001b[0m 43ms/step - loss: 0.0031 - val_loss: 0.0048\n",
            "Epoch 27/100\n",
            "\u001b[1m1790/1790\u001b[0m \u001b[32m━━━━━━━━━━━━━━━━━━━━\u001b[0m\u001b[37m\u001b[0m \u001b[1m87s\u001b[0m 46ms/step - loss: 0.0031 - val_loss: 0.0049\n",
            "Epoch 28/100\n",
            "\u001b[1m1790/1790\u001b[0m \u001b[32m━━━━━━━━━━━━━━━━━━━━\u001b[0m\u001b[37m\u001b[0m \u001b[1m141s\u001b[0m 46ms/step - loss: 0.0031 - val_loss: 0.0049\n",
            "Epoch 29/100\n",
            "\u001b[1m1790/1790\u001b[0m \u001b[32m━━━━━━━━━━━━━━━━━━━━\u001b[0m\u001b[37m\u001b[0m \u001b[1m84s\u001b[0m 46ms/step - loss: 0.0031 - val_loss: 0.0049\n",
            "Epoch 30/100\n",
            "\u001b[1m1790/1790\u001b[0m \u001b[32m━━━━━━━━━━━━━━━━━━━━\u001b[0m\u001b[37m\u001b[0m \u001b[1m137s\u001b[0m 44ms/step - loss: 0.0031 - val_loss: 0.0048\n",
            "Epoch 31/100\n",
            "\u001b[1m1790/1790\u001b[0m \u001b[32m━━━━━━━━━━━━━━━━━━━━\u001b[0m\u001b[37m\u001b[0m \u001b[1m81s\u001b[0m 44ms/step - loss: 0.0031 - val_loss: 0.0048\n",
            "Epoch 32/100\n",
            "\u001b[1m1790/1790\u001b[0m \u001b[32m━━━━━━━━━━━━━━━━━━━━\u001b[0m\u001b[37m\u001b[0m \u001b[1m81s\u001b[0m 43ms/step - loss: 0.0031 - val_loss: 0.0049\n",
            "Epoch 33/100\n",
            "\u001b[1m1790/1790\u001b[0m \u001b[32m━━━━━━━━━━━━━━━━━━━━\u001b[0m\u001b[37m\u001b[0m \u001b[1m82s\u001b[0m 46ms/step - loss: 0.0031 - val_loss: 0.0049\n",
            "Epoch 34/100\n",
            "\u001b[1m1790/1790\u001b[0m \u001b[32m━━━━━━━━━━━━━━━━━━━━\u001b[0m\u001b[37m\u001b[0m \u001b[1m143s\u001b[0m 46ms/step - loss: 0.0031 - val_loss: 0.0049\n",
            "Epoch 35/100\n",
            "\u001b[1m1790/1790\u001b[0m \u001b[32m━━━━━━━━━━━━━━━━━━━━\u001b[0m\u001b[37m\u001b[0m \u001b[1m137s\u001b[0m 44ms/step - loss: 0.0030 - val_loss: 0.0049\n",
            "Epoch 36/100\n",
            "\u001b[1m1790/1790\u001b[0m \u001b[32m━━━━━━━━━━━━━━━━━━━━\u001b[0m\u001b[37m\u001b[0m \u001b[1m82s\u001b[0m 44ms/step - loss: 0.0031 - val_loss: 0.0049\n",
            "Epoch 37/100\n",
            "\u001b[1m1790/1790\u001b[0m \u001b[32m━━━━━━━━━━━━━━━━━━━━\u001b[0m\u001b[37m\u001b[0m \u001b[1m82s\u001b[0m 43ms/step - loss: 0.0030 - val_loss: 0.0049\n",
            "Epoch 38/100\n",
            "\u001b[1m1790/1790\u001b[0m \u001b[32m━━━━━━━━━━━━━━━━━━━━\u001b[0m\u001b[37m\u001b[0m \u001b[1m78s\u001b[0m 44ms/step - loss: 0.0030 - val_loss: 0.0049\n",
            "Epoch 39/100\n",
            "\u001b[1m1790/1790\u001b[0m \u001b[32m━━━━━━━━━━━━━━━━━━━━\u001b[0m\u001b[37m\u001b[0m \u001b[1m81s\u001b[0m 43ms/step - loss: 0.0030 - val_loss: 0.0048\n"
          ]
        },
        {
          "output_type": "execute_result",
          "data": {
            "text/plain": [
              "<keras.src.callbacks.history.History at 0x7d2818762e10>"
            ]
          },
          "metadata": {},
          "execution_count": 1
        }
      ]
    },
    {
      "cell_type": "code",
      "source": [
        "# Save the trained model ---\n",
        "model.save(\"power_model.h5\")\n",
        "print(\"Model saved to power_model.h5\")\n",
        "\n",
        "#Save the fitted scaler ---\n",
        "joblib.dump(scaler, \"scaler.pkl\")\n",
        "print(\"Scaler saved to scaler.pkl\")"
      ],
      "metadata": {
        "id": "_8AxgrlPy1AX"
      },
      "execution_count": null,
      "outputs": []
    },
    {
      "cell_type": "markdown",
      "source": [
        "model = LogisticRegression()\n",
        "\n",
        "model.fit(x_train, y_train)\n",
        "\n",
        "y_pred = model.predict(x_test)  ---> y_test\n",
        "accuracy_score(y_test, y_pred)\n",
        "89%"
      ],
      "metadata": {
        "id": "pc8rCtsY08cL"
      }
    },
    {
      "cell_type": "code",
      "source": [
        "# training (colab)\n",
        "joblib.dump(model,\"lr_model.joblib\")"
      ],
      "metadata": {
        "id": "nZDnAgq71Gt0"
      },
      "execution_count": null,
      "outputs": []
    },
    {
      "cell_type": "code",
      "source": [
        "# app\n",
        "model = joblib.load(\"lr_model.joblib\")\n",
        "prediction = model.predict(user_input[10, 20, 30, 40])\n",
        "prediction\n"
      ],
      "metadata": {
        "id": "h_EDKunu10Vz"
      },
      "execution_count": null,
      "outputs": []
    }
  ]
}